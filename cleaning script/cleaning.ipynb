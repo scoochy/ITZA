{
 "cells": [
  {
   "cell_type": "code",
   "execution_count": 7,
   "id": "9d3ca22e-8a6e-4350-9cea-212f1b7aff4c",
   "metadata": {},
   "outputs": [],
   "source": [
    "import pandas as pd"
   ]
  },
  {
   "cell_type": "code",
   "execution_count": 8,
   "id": "c9f49da1-63fd-4397-a127-64dcbbccc3a9",
   "metadata": {},
   "outputs": [
    {
     "name": "stdout",
     "output_type": "stream",
     "text": [
      "C:\\Users\\Panton\\Desktop\\ITZA\\ITZA\n"
     ]
    },
    {
     "name": "stderr",
     "output_type": "stream",
     "text": [
      "C:\\Users\\Panton\\AppData\\Roaming\\Python\\Python39\\site-packages\\IPython\\core\\magics\\osm.py:417: UserWarning: using dhist requires you to install the `pickleshare` library.\n",
      "  self.shell.db['dhist'] = compress_dhist(dhist)[-100:]\n"
     ]
    }
   ],
   "source": [
    "%cd C:\\Users\\Panton\\Desktop\\ITZA\\ITZA"
   ]
  },
  {
   "cell_type": "code",
   "execution_count": 10,
   "id": "58f01d69-83c7-42d2-9d24-9a2cee612c3e",
   "metadata": {},
   "outputs": [],
   "source": [
    "scores = pd.read_csv(\"raw_data/student-scores.csv\")"
   ]
  },
  {
   "cell_type": "code",
   "execution_count": 11,
   "id": "92933bae-6730-4750-9950-d7d78e506794",
   "metadata": {},
   "outputs": [
    {
     "data": {
      "text/plain": [
       "<bound method NDFrame.head of         id first_name last_name                                    email  \\\n",
       "0        1       Paul     Casey           paul.casey.1@gslingacademy.com   \n",
       "1        2   Danielle  Sandoval    danielle.sandoval.2@gslingacademy.com   \n",
       "2        3       Tina   Andrews         tina.andrews.3@gslingacademy.com   \n",
       "3        4       Tara     Clark           tara.clark.4@gslingacademy.com   \n",
       "4        5    Anthony    Campos       anthony.campos.5@gslingacademy.com   \n",
       "...    ...        ...       ...                                      ...   \n",
       "1995  1996       Alan  Reynolds     alan.reynolds.1996@gslingacademy.com   \n",
       "1996  1997     Thomas   Gilbert    thomas.gilbert.1997@gslingacademy.com   \n",
       "1997  1998    Madison     Cross     madison.cross.1998@gslingacademy.com   \n",
       "1998  1999   Brittany   Compton  brittany.compton.1999@gslingacademy.com   \n",
       "1999  2000    Natalie     Smith     natalie.smith.2000@gslingacademy.com   \n",
       "\n",
       "      gender  part_time_job  absence_days  extracurricular_activities  \\\n",
       "0       male          False             3                       False   \n",
       "1     female          False             2                       False   \n",
       "2     female          False             9                        True   \n",
       "3     female          False             5                       False   \n",
       "4       male          False             5                       False   \n",
       "...      ...            ...           ...                         ...   \n",
       "1995    male          False             2                       False   \n",
       "1996    male          False             2                       False   \n",
       "1997  female          False             5                       False   \n",
       "1998  female           True            10                        True   \n",
       "1999  female          False             5                       False   \n",
       "\n",
       "      weekly_self_study_hours      career_aspiration  math_score  \\\n",
       "0                          27                 Lawyer          73   \n",
       "1                          47                 Doctor          90   \n",
       "2                          13     Government Officer          81   \n",
       "3                           3                 Artist          71   \n",
       "4                          10                Unknown          84   \n",
       "...                       ...                    ...         ...   \n",
       "1995                       30  Construction Engineer          83   \n",
       "1996                       20      Software Engineer          89   \n",
       "1997                       14      Software Engineer          97   \n",
       "1998                        5         Business Owner          51   \n",
       "1999                       27             Accountant          82   \n",
       "\n",
       "      history_score  physics_score  chemistry_score  biology_score  \\\n",
       "0                81             93               97             63   \n",
       "1                86             96              100             90   \n",
       "2                97             95               96             65   \n",
       "3                74             88               80             89   \n",
       "4                77             65               65             80   \n",
       "...             ...            ...              ...            ...   \n",
       "1995             77             84               73             75   \n",
       "1996             65             73               80             87   \n",
       "1997             85             63               93             68   \n",
       "1998             96             72               89             95   \n",
       "1999             99             91               69             83   \n",
       "\n",
       "      english_score  geography_score  \n",
       "0                80               87  \n",
       "1                88               90  \n",
       "2                77               94  \n",
       "3                63               86  \n",
       "4                74               76  \n",
       "...             ...              ...  \n",
       "1995             84               82  \n",
       "1996             67               73  \n",
       "1997             94               78  \n",
       "1998             88               75  \n",
       "1999             93              100  \n",
       "\n",
       "[2000 rows x 17 columns]>"
      ]
     },
     "execution_count": 11,
     "metadata": {},
     "output_type": "execute_result"
    }
   ],
   "source": [
    "scores.head"
   ]
  },
  {
   "cell_type": "code",
   "execution_count": null,
   "id": "1f3e224e-2d99-4f5c-98fc-9e4cb8f2c8fa",
   "metadata": {},
   "outputs": [],
   "source": []
  }
 ],
 "metadata": {
  "kernelspec": {
   "display_name": "Python 3 (ipykernel)",
   "language": "python",
   "name": "python3"
  },
  "language_info": {
   "codemirror_mode": {
    "name": "ipython",
    "version": 3
   },
   "file_extension": ".py",
   "mimetype": "text/x-python",
   "name": "python",
   "nbconvert_exporter": "python",
   "pygments_lexer": "ipython3",
   "version": "3.9.5"
  }
 },
 "nbformat": 4,
 "nbformat_minor": 5
}
